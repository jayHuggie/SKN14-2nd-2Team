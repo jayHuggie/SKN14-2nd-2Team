{
 "cells": [
  {
   "metadata": {},
   "cell_type": "markdown",
   "source": [
    "<style>\n",
    "    rd { color:red; }\n",
    "    bl { color:blue; }\n",
    "</style>"
   ],
   "id": "559c2d642dc5d9bd"
  },
  {
   "metadata": {},
   "cell_type": "markdown",
   "source": [
    "# Feature Engineering 로 개선 가능?\n",
    "## 전처리\n",
    "| 작업        | 대상                                                                                       |\n",
    "|:------------|:-------------------------------------------------------------------------------------------|\n",
    "| 컬럼 삭제   | \"RowNumber\", \"CustomerId\", \"Surname\"                                                       |\n",
    "| 컬럼 인코딩 | \"Geography\", \"Gender\"                                                                      |\n",
    "| 컬럼 라벨링 | \"CreditScore\", \"Geography\", \"Age\", \"Tenure\", \"Balance\", \"NumOfProducts\", \"EstimatedSalary\" |\n",
    "\n",
    "### 스케일링 : StandardScaler\n",
    "\n",
    "## 하이퍼파라미터\n",
    "- RandomForest\n",
    "    - 순성\n",
    "\n",
    "## 결론 :"
   ],
   "id": "e04b075cc9e028a6"
  },
  {
   "cell_type": "code",
   "id": "176db71343567c42",
   "metadata": {
    "ExecuteTime": {
     "end_time": "2025-06-04T02:57:31.252561Z",
     "start_time": "2025-06-04T02:57:31.224320Z"
    }
   },
   "source": [
    "import numpy             as np\n",
    "import pandas            as pd\n",
    "import matplotlib.pyplot as plt\n",
    "import seaborn           as sns\n",
    "\n",
    "import matplotlib\n",
    "import matplotlib.font_manager as fm\n",
    "\n",
    "import re\n",
    "\n",
    "from sklearn.metrics import accuracy_score, classification_report\n",
    "from sklearn.model_selection import train_test_split\n",
    "\n",
    "from sklearn.ensemble import RandomForestClassifier\n",
    "from sklearn.preprocessing import StandardScaler, LabelEncoder\n",
    "\n",
    "from sklearn.ensemble import HistGradientBoostingClassifier\n",
    "from sklearn.model_selection import cross_validate\n",
    "from sklearn.metrics import roc_curve, roc_auc_score\n",
    "from sklearn.decomposition import PCA\n",
    "from sklearn.inspection import DecisionBoundaryDisplay"
   ],
   "outputs": [],
   "execution_count": 83
  },
  {
   "metadata": {
    "ExecuteTime": {
     "end_time": "2025-06-04T02:51:19.031291Z",
     "start_time": "2025-06-04T02:51:19.013499Z"
    }
   },
   "cell_type": "code",
   "source": [
    "def encoding(df:pd.DataFrame, columns:list[str]):\n",
    "    \"\"\"범주형 데이터를 인코딩\"\"\"\n",
    "\n",
    "    encoder_list = {}\n",
    "    result_df    = df.copy(deep=True)\n",
    "\n",
    "    for col_nm in columns:\n",
    "        encoder           = LabelEncoder()\n",
    "        result_df[col_nm] = encoder.fit_transform(result_df[col_nm])\n",
    "\n",
    "        encoder_list[col_nm] = encoder\n",
    "\n",
    "    return result_df, encoder_list\n",
    "\n",
    "\n",
    "def scaling(df:pd.DataFrame, columns:list[str]):\n",
    "    \"\"\"DataFrame 에서 컬럼들을 스케일링\"\"\"\n",
    "\n",
    "    scaler    = StandardScaler()\n",
    "    result_df = df.copy(deep=True)\n",
    "\n",
    "    result_df[columns] = scaler.fit_transform(result_df[columns])\n",
    "\n",
    "    return result_df"
   ],
   "id": "e85e907202504aef",
   "outputs": [],
   "execution_count": 76
  },
  {
   "metadata": {},
   "cell_type": "markdown",
   "source": "## 데이터 로드 및 전처리",
   "id": "2d9aae1e9da8dd90"
  },
  {
   "metadata": {
    "ExecuteTime": {
     "end_time": "2025-06-04T03:26:08.236661Z",
     "start_time": "2025-06-04T03:26:08.206603Z"
    }
   },
   "cell_type": "code",
   "source": [
    "######################################### 데이터 로드\n",
    "df     = pd.read_csv(\"../data/Churn_Modelling.csv\")\n",
    "# inputs = df.drop(columns=[\"Exited\"], axis=1)\n",
    "# labels = df[\"Exited\"]\n",
    "\n",
    "df = df[[\"IsActiveMember\", \"NumOfProducts\", \"Age\", \"Balance\", \"Exited\"]]\n",
    "\n",
    "\n",
    "stayed_df   = df[df[\"Exited\"] == 0]\n",
    "stayed_half = len(stayed_df) // 3\n",
    "backup_df   = stayed_df.iloc[:stayed_half]\n",
    "stayed_df   = stayed_df.iloc[stayed_half:]\n",
    "\n",
    "exited_df   = df[df[\"Exited\"] == 1]\n",
    "\n",
    "target_df   = pd.concat([stayed_df, exited_df])\n",
    "inputs      = target_df.drop(columns=[\"Exited\"], axis=1)\n",
    "labels      = target_df[\"Exited\"]\n",
    "\n",
    "inputs = inputs.reset_index(drop=True)\n",
    "labels = labels.reset_index(drop=True)\n",
    "display(inputs.head(2))\n",
    "display(labels.head(2))\n",
    "\n",
    "####################################### 데이터 전처리\n",
    "_input = inputs\n",
    "\n",
    "backup_input = backup_df.drop(columns=[\"Exited\"], axis=1)\n",
    "backup_label = backup_df[\"Exited\"]\n",
    "\n",
    "backup_input = backup_input.reset_index(drop=True)\n",
    "backup_label = backup_label.reset_index(drop=True)"
   ],
   "id": "9320ccba123b53ac",
   "outputs": [
    {
     "data": {
      "text/plain": [
       "   IsActiveMember  NumOfProducts  Age    Balance\n",
       "0               1              1   74  116800.25\n",
       "1               1              2   67       0.00"
      ],
      "text/html": [
       "<div>\n",
       "<style scoped>\n",
       "    .dataframe tbody tr th:only-of-type {\n",
       "        vertical-align: middle;\n",
       "    }\n",
       "\n",
       "    .dataframe tbody tr th {\n",
       "        vertical-align: top;\n",
       "    }\n",
       "\n",
       "    .dataframe thead th {\n",
       "        text-align: right;\n",
       "    }\n",
       "</style>\n",
       "<table border=\"1\" class=\"dataframe\">\n",
       "  <thead>\n",
       "    <tr style=\"text-align: right;\">\n",
       "      <th></th>\n",
       "      <th>IsActiveMember</th>\n",
       "      <th>NumOfProducts</th>\n",
       "      <th>Age</th>\n",
       "      <th>Balance</th>\n",
       "    </tr>\n",
       "  </thead>\n",
       "  <tbody>\n",
       "    <tr>\n",
       "      <th>0</th>\n",
       "      <td>1</td>\n",
       "      <td>1</td>\n",
       "      <td>74</td>\n",
       "      <td>116800.25</td>\n",
       "    </tr>\n",
       "    <tr>\n",
       "      <th>1</th>\n",
       "      <td>1</td>\n",
       "      <td>2</td>\n",
       "      <td>67</td>\n",
       "      <td>0.00</td>\n",
       "    </tr>\n",
       "  </tbody>\n",
       "</table>\n",
       "</div>"
      ]
     },
     "metadata": {},
     "output_type": "display_data"
    },
    {
     "data": {
      "text/plain": [
       "0    0\n",
       "1    0\n",
       "Name: Exited, dtype: int64"
      ]
     },
     "metadata": {},
     "output_type": "display_data"
    }
   ],
   "execution_count": 104
  },
  {
   "metadata": {
    "ExecuteTime": {
     "end_time": "2025-06-04T02:51:19.118539Z",
     "start_time": "2025-06-04T02:51:19.109625Z"
    }
   },
   "cell_type": "code",
   "source": "print(_input.info(), \"\\n\")",
   "id": "1cc759af73480643",
   "outputs": [
    {
     "name": "stdout",
     "output_type": "stream",
     "text": [
      "<class 'pandas.core.frame.DataFrame'>\n",
      "Index: 7346 entries, 3366 to 9998\n",
      "Data columns (total 4 columns):\n",
      " #   Column          Non-Null Count  Dtype  \n",
      "---  ------          --------------  -----  \n",
      " 0   IsActiveMember  7346 non-null   int64  \n",
      " 1   NumOfProducts   7346 non-null   int64  \n",
      " 2   Age             7346 non-null   int64  \n",
      " 3   Balance         7346 non-null   float64\n",
      "dtypes: float64(1), int64(3)\n",
      "memory usage: 287.0 KB\n",
      "None \n",
      "\n"
     ]
    }
   ],
   "execution_count": 78
  },
  {
   "metadata": {
    "ExecuteTime": {
     "end_time": "2025-06-04T02:51:19.207838Z",
     "start_time": "2025-06-04T02:51:19.199819Z"
    }
   },
   "cell_type": "code",
   "source": [
    "print(labels.value_counts(), \"\\n\")\n",
    "print(backup_label.value_counts())"
   ],
   "id": "bc9aa03746c10880",
   "outputs": [
    {
     "name": "stdout",
     "output_type": "stream",
     "text": [
      "Exited\n",
      "0    5309\n",
      "1    2037\n",
      "Name: count, dtype: int64 \n",
      "\n",
      "Exited\n",
      "0    2654\n",
      "Name: count, dtype: int64\n"
     ]
    }
   ],
   "execution_count": 79
  },
  {
   "metadata": {},
   "cell_type": "markdown",
   "source": "## 데이터 분할",
   "id": "93785a334ff273b1"
  },
  {
   "metadata": {
    "ExecuteTime": {
     "end_time": "2025-06-04T02:51:19.262376Z",
     "start_time": "2025-06-04T02:51:19.251378Z"
    }
   },
   "cell_type": "code",
   "source": [
    "######################################### 데이터 분할. random_state 지정한 상태에서 성능 확인/개선해보고, state 풀었을 때도 보기.\n",
    "train_x, test_x, train_y, test_y = train_test_split(_input, labels, test_size=0.2, stratify=labels)\n",
    "\n",
    "test_x = pd.concat([test_x, backup_input])\n",
    "test_y = pd.concat([test_y, backup_label])\n",
    "\n",
    "print(\"학습 데이터 shape : \", train_x.shape, train_y.shape)\n",
    "print(\"검증 데이터 shape : \",  test_x.shape,  test_y.shape, \"\\n\")"
   ],
   "id": "97d39ed511f967e7",
   "outputs": [
    {
     "name": "stdout",
     "output_type": "stream",
     "text": [
      "학습 데이터 shape :  (5876, 4) (5876,)\n",
      "검증 데이터 shape :  (4124, 4) (4124,) \n",
      "\n"
     ]
    }
   ],
   "execution_count": 80
  },
  {
   "metadata": {},
   "cell_type": "markdown",
   "source": [
    "## 모델 학습 및 평가 - max_features=\"log2\", max_depth=5\n",
    "순정에 비해 정밀도는 <rd>상승</rd>, 재현율은 <bl>하락</bl>, F1점수는 <bl>하락</bl>"
   ],
   "id": "572c908ff4bc8a57"
  },
  {
   "metadata": {
    "ExecuteTime": {
     "end_time": "2025-06-04T02:51:21.160956Z",
     "start_time": "2025-06-04T02:51:19.269899Z"
    }
   },
   "cell_type": "code",
   "source": [
    "######################################### 모델 학습\n",
    "model = HistGradientBoostingClassifier(\n",
    "    max_iter=5000,\n",
    "    n_iter_no_change=100,\n",
    "    early_stopping=True,\n",
    "    validation_fraction=0.1,\n",
    "    learning_rate=0.03,\n",
    "    max_depth=5,\n",
    "    # loss=\"\",\n",
    "    # scoring=\"recall\",\n",
    "    scoring=\"accuracy\",\n",
    "    verbose=2\n",
    ")\n",
    "results = pd.DataFrame(cross_validate(model, train_x, train_y, cv=8, return_train_score=True, n_jobs=-1)).round(6)\n",
    "display(results)\n",
    "\n",
    "\n",
    "######################################### 모델 성능 평가\n",
    "model.fit(train_x, train_y)\n",
    "predicted = model.predict(test_x)\n",
    "print(\"Threshold 조정 전\")\n",
    "print(classification_report(test_y, predicted, target_names=[\"Stayed\", \"Exited\"]))\n",
    "\n",
    "threshold = 0.4\n",
    "pred_prob = model.predict_proba(test_x)\n",
    "pred_adj  = pred_prob[:, 1]\n",
    "pred_adj  = (pred_adj >= threshold).astype(int)\n",
    "print(f\"Threshold >= {threshold}\")\n",
    "print(classification_report(test_y, pred_adj, target_names=[\"Stayed\", \"Exited\"]))\n",
    "\n",
    "fprs, tprs, thresholds = roc_curve(test_y, pred_prob[:,1])\n",
    "plt.plot(fprs, tprs, label='ROC curve')\n",
    "plt.plot([0,1], [0,1], \"k--\")\n",
    "\n",
    "plt.xlabel(\"False Positive Rate\")\n",
    "plt.ylabel(\"True Positive Rate\")\n",
    "plt.legend()\n",
    "plt.grid(True)\n",
    "\n",
    "plt.show()"
   ],
   "id": "276e2056321e9a9f",
   "outputs": [
    {
     "data": {
      "text/plain": [
       "   fit_time  score_time  test_score  train_score\n",
       "0  0.780267    0.017174    0.813605     0.831356\n",
       "1  0.571736    0.017932    0.823129     0.829605\n",
       "2  0.907028    0.026144    0.808163     0.834857\n",
       "3  0.835931    0.016171    0.820408     0.829994\n",
       "4  0.673789    0.016193    0.826975     0.828082\n",
       "5  0.906852    0.018385    0.836512     0.831583\n",
       "6  0.759748    0.017122    0.792916     0.833333\n",
       "7  0.906160    0.016433    0.828338     0.830027"
      ],
      "text/html": [
       "<div>\n",
       "<style scoped>\n",
       "    .dataframe tbody tr th:only-of-type {\n",
       "        vertical-align: middle;\n",
       "    }\n",
       "\n",
       "    .dataframe tbody tr th {\n",
       "        vertical-align: top;\n",
       "    }\n",
       "\n",
       "    .dataframe thead th {\n",
       "        text-align: right;\n",
       "    }\n",
       "</style>\n",
       "<table border=\"1\" class=\"dataframe\">\n",
       "  <thead>\n",
       "    <tr style=\"text-align: right;\">\n",
       "      <th></th>\n",
       "      <th>fit_time</th>\n",
       "      <th>score_time</th>\n",
       "      <th>test_score</th>\n",
       "      <th>train_score</th>\n",
       "    </tr>\n",
       "  </thead>\n",
       "  <tbody>\n",
       "    <tr>\n",
       "      <th>0</th>\n",
       "      <td>0.780267</td>\n",
       "      <td>0.017174</td>\n",
       "      <td>0.813605</td>\n",
       "      <td>0.831356</td>\n",
       "    </tr>\n",
       "    <tr>\n",
       "      <th>1</th>\n",
       "      <td>0.571736</td>\n",
       "      <td>0.017932</td>\n",
       "      <td>0.823129</td>\n",
       "      <td>0.829605</td>\n",
       "    </tr>\n",
       "    <tr>\n",
       "      <th>2</th>\n",
       "      <td>0.907028</td>\n",
       "      <td>0.026144</td>\n",
       "      <td>0.808163</td>\n",
       "      <td>0.834857</td>\n",
       "    </tr>\n",
       "    <tr>\n",
       "      <th>3</th>\n",
       "      <td>0.835931</td>\n",
       "      <td>0.016171</td>\n",
       "      <td>0.820408</td>\n",
       "      <td>0.829994</td>\n",
       "    </tr>\n",
       "    <tr>\n",
       "      <th>4</th>\n",
       "      <td>0.673789</td>\n",
       "      <td>0.016193</td>\n",
       "      <td>0.826975</td>\n",
       "      <td>0.828082</td>\n",
       "    </tr>\n",
       "    <tr>\n",
       "      <th>5</th>\n",
       "      <td>0.906852</td>\n",
       "      <td>0.018385</td>\n",
       "      <td>0.836512</td>\n",
       "      <td>0.831583</td>\n",
       "    </tr>\n",
       "    <tr>\n",
       "      <th>6</th>\n",
       "      <td>0.759748</td>\n",
       "      <td>0.017122</td>\n",
       "      <td>0.792916</td>\n",
       "      <td>0.833333</td>\n",
       "    </tr>\n",
       "    <tr>\n",
       "      <th>7</th>\n",
       "      <td>0.906160</td>\n",
       "      <td>0.016433</td>\n",
       "      <td>0.828338</td>\n",
       "      <td>0.830027</td>\n",
       "    </tr>\n",
       "  </tbody>\n",
       "</table>\n",
       "</div>"
      ]
     },
     "metadata": {},
     "output_type": "display_data"
    },
    {
     "name": "stdout",
     "output_type": "stream",
     "text": [
      "Binning 0.000 GB of training data: 0.018 s\n",
      "Binning 0.000 GB of validation data: 0.000 s\n",
      "Fitting gradient boosted rounds:\n",
      "[1/5000] 1 tree, 25 leaves, max depth = 5, train score: 0.72277, val score: 0.72279, in 0.004s\n",
      "[2/5000] 1 tree, 26 leaves, max depth = 5, train score: 0.72277, val score: 0.72279, in 0.005s\n",
      "[3/5000] 1 tree, 25 leaves, max depth = 5, train score: 0.72277, val score: 0.72279, in 0.004s\n",
      "[4/5000] 1 tree, 25 leaves, max depth = 5, train score: 0.72277, val score: 0.72279, in 0.004s\n",
      "[5/5000] 1 tree, 25 leaves, max depth = 5, train score: 0.72277, val score: 0.72279, in 0.002s\n",
      "[6/5000] 1 tree, 25 leaves, max depth = 5, train score: 0.72277, val score: 0.72279, in 0.006s\n",
      "[7/5000] 1 tree, 26 leaves, max depth = 5, train score: 0.72277, val score: 0.72279, in 0.004s\n",
      "[8/5000] 1 tree, 25 leaves, max depth = 5, train score: 0.72277, val score: 0.72279, in 0.004s\n",
      "[9/5000] 1 tree, 25 leaves, max depth = 5, train score: 0.72277, val score: 0.72279, in 0.004s\n",
      "[10/5000] 1 tree, 25 leaves, max depth = 5, train score: 0.72277, val score: 0.72279, in 0.004s\n",
      "[11/5000] 1 tree, 28 leaves, max depth = 5, train score: 0.72277, val score: 0.72279, in 0.004s\n",
      "[12/5000] 1 tree, 25 leaves, max depth = 5, train score: 0.73185, val score: 0.72959, in 0.004s\n",
      "[13/5000] 1 tree, 25 leaves, max depth = 5, train score: 0.74187, val score: 0.73639, in 0.002s\n",
      "[14/5000] 1 tree, 27 leaves, max depth = 5, train score: 0.74641, val score: 0.73980, in 0.004s\n",
      "[15/5000] 1 tree, 25 leaves, max depth = 5, train score: 0.77477, val score: 0.75680, in 0.002s\n",
      "[16/5000] 1 tree, 27 leaves, max depth = 5, train score: 0.78082, val score: 0.77211, in 0.006s\n",
      "[17/5000] 1 tree, 24 leaves, max depth = 5, train score: 0.79652, val score: 0.78401, in 0.004s\n",
      "[18/5000] 1 tree, 27 leaves, max depth = 5, train score: 0.79652, val score: 0.78231, in 0.004s\n",
      "[19/5000] 1 tree, 24 leaves, max depth = 5, train score: 0.79690, val score: 0.78401, in 0.004s\n",
      "[20/5000] 1 tree, 27 leaves, max depth = 5, train score: 0.80371, val score: 0.79082, in 0.000s\n",
      "[21/5000] 1 tree, 24 leaves, max depth = 5, train score: 0.80390, val score: 0.79082, in 0.008s\n",
      "[22/5000] 1 tree, 27 leaves, max depth = 5, train score: 0.80390, val score: 0.79082, in 0.004s\n",
      "[23/5000] 1 tree, 27 leaves, max depth = 5, train score: 0.80408, val score: 0.79252, in 0.004s\n",
      "[24/5000] 1 tree, 24 leaves, max depth = 5, train score: 0.80541, val score: 0.79252, in 0.000s\n",
      "[25/5000] 1 tree, 27 leaves, max depth = 5, train score: 0.80541, val score: 0.79252, in 0.000s\n",
      "[26/5000] 1 tree, 24 leaves, max depth = 5, train score: 0.80541, val score: 0.79252, in 0.000s\n",
      "[27/5000] 1 tree, 26 leaves, max depth = 5, train score: 0.81051, val score: 0.79932, in 0.000s\n",
      "[28/5000] 1 tree, 24 leaves, max depth = 5, train score: 0.81051, val score: 0.79932, in 0.018s\n",
      "[29/5000] 1 tree, 25 leaves, max depth = 5, train score: 0.81316, val score: 0.80272, in 0.006s\n",
      "[30/5000] 1 tree, 28 leaves, max depth = 5, train score: 0.81373, val score: 0.80442, in 0.004s\n",
      "[31/5000] 1 tree, 24 leaves, max depth = 5, train score: 0.81373, val score: 0.80442, in 0.004s\n",
      "[32/5000] 1 tree, 27 leaves, max depth = 5, train score: 0.81373, val score: 0.80442, in 0.006s\n",
      "[33/5000] 1 tree, 24 leaves, max depth = 5, train score: 0.81373, val score: 0.80442, in 0.000s\n",
      "[34/5000] 1 tree, 26 leaves, max depth = 5, train score: 0.81373, val score: 0.80442, in 0.008s\n",
      "[35/5000] 1 tree, 23 leaves, max depth = 5, train score: 0.81373, val score: 0.80442, in 0.004s\n",
      "[36/5000] 1 tree, 25 leaves, max depth = 5, train score: 0.81543, val score: 0.80102, in 0.004s\n",
      "[37/5000] 1 tree, 27 leaves, max depth = 5, train score: 0.81581, val score: 0.80102, in 0.003s\n",
      "[38/5000] 1 tree, 22 leaves, max depth = 5, train score: 0.81751, val score: 0.80272, in 0.004s\n",
      "[39/5000] 1 tree, 26 leaves, max depth = 5, train score: 0.81751, val score: 0.80272, in 0.002s\n",
      "[40/5000] 1 tree, 25 leaves, max depth = 5, train score: 0.81751, val score: 0.80272, in 0.000s\n",
      "[41/5000] 1 tree, 22 leaves, max depth = 5, train score: 0.81751, val score: 0.80272, in 0.011s\n",
      "[42/5000] 1 tree, 26 leaves, max depth = 5, train score: 0.81751, val score: 0.80272, in 0.000s\n",
      "[43/5000] 1 tree, 26 leaves, max depth = 5, train score: 0.81751, val score: 0.80272, in 0.005s\n",
      "[44/5000] 1 tree, 25 leaves, max depth = 5, train score: 0.81751, val score: 0.80272, in 0.006s\n",
      "[45/5000] 1 tree, 23 leaves, max depth = 5, train score: 0.81789, val score: 0.80782, in 0.005s\n",
      "[46/5000] 1 tree, 25 leaves, max depth = 5, train score: 0.81789, val score: 0.80782, in 0.003s\n",
      "[47/5000] 1 tree, 25 leaves, max depth = 5, train score: 0.81789, val score: 0.80782, in 0.004s\n",
      "[48/5000] 1 tree, 26 leaves, max depth = 5, train score: 0.81789, val score: 0.80782, in 0.004s\n",
      "[49/5000] 1 tree, 25 leaves, max depth = 5, train score: 0.81789, val score: 0.80782, in 0.004s\n",
      "[50/5000] 1 tree, 23 leaves, max depth = 5, train score: 0.81902, val score: 0.80952, in 0.004s\n",
      "[51/5000] 1 tree, 25 leaves, max depth = 5, train score: 0.81902, val score: 0.80952, in 0.004s\n",
      "[52/5000] 1 tree, 26 leaves, max depth = 5, train score: 0.81902, val score: 0.80952, in 0.005s\n",
      "[53/5000] 1 tree, 26 leaves, max depth = 5, train score: 0.81902, val score: 0.80952, in 0.004s\n",
      "[54/5000] 1 tree, 26 leaves, max depth = 5, train score: 0.81959, val score: 0.80782, in 0.003s\n",
      "[55/5000] 1 tree, 25 leaves, max depth = 5, train score: 0.81959, val score: 0.80782, in 0.003s\n",
      "[56/5000] 1 tree, 23 leaves, max depth = 5, train score: 0.81959, val score: 0.80782, in 0.004s\n",
      "[57/5000] 1 tree, 26 leaves, max depth = 5, train score: 0.82640, val score: 0.80612, in 0.004s\n",
      "[58/5000] 1 tree, 26 leaves, max depth = 5, train score: 0.82621, val score: 0.80612, in 0.003s\n",
      "[59/5000] 1 tree, 24 leaves, max depth = 5, train score: 0.82621, val score: 0.80612, in 0.004s\n",
      "[60/5000] 1 tree, 24 leaves, max depth = 5, train score: 0.82716, val score: 0.80612, in 0.005s\n",
      "[61/5000] 1 tree, 27 leaves, max depth = 5, train score: 0.82697, val score: 0.80612, in 0.018s\n",
      "[62/5000] 1 tree, 24 leaves, max depth = 5, train score: 0.82716, val score: 0.80612, in 0.000s\n",
      "[63/5000] 1 tree, 27 leaves, max depth = 5, train score: 0.82716, val score: 0.80612, in 0.000s\n",
      "[64/5000] 1 tree, 24 leaves, max depth = 5, train score: 0.82829, val score: 0.80442, in 0.010s\n",
      "[65/5000] 1 tree, 27 leaves, max depth = 5, train score: 0.82867, val score: 0.80272, in 0.004s\n",
      "[66/5000] 1 tree, 24 leaves, max depth = 5, train score: 0.82943, val score: 0.80442, in 0.005s\n",
      "[67/5000] 1 tree, 25 leaves, max depth = 5, train score: 0.82886, val score: 0.80442, in 0.003s\n",
      "[68/5000] 1 tree, 26 leaves, max depth = 5, train score: 0.82924, val score: 0.80442, in 0.003s\n",
      "[69/5000] 1 tree, 24 leaves, max depth = 5, train score: 0.82943, val score: 0.80442, in 0.004s\n",
      "[70/5000] 1 tree, 27 leaves, max depth = 5, train score: 0.82943, val score: 0.80442, in 0.004s\n",
      "[71/5000] 1 tree, 27 leaves, max depth = 5, train score: 0.82943, val score: 0.80442, in 0.004s\n",
      "[72/5000] 1 tree, 24 leaves, max depth = 5, train score: 0.82943, val score: 0.80442, in 0.003s\n",
      "[73/5000] 1 tree, 26 leaves, max depth = 5, train score: 0.82943, val score: 0.80442, in 0.004s\n",
      "[74/5000] 1 tree, 24 leaves, max depth = 5, train score: 0.82943, val score: 0.80442, in 0.003s\n",
      "[75/5000] 1 tree, 24 leaves, max depth = 5, train score: 0.82943, val score: 0.80442, in 0.004s\n",
      "[76/5000] 1 tree, 22 leaves, max depth = 5, train score: 0.82943, val score: 0.80442, in 0.003s\n",
      "[77/5000] 1 tree, 23 leaves, max depth = 5, train score: 0.82924, val score: 0.80442, in 0.003s\n",
      "[78/5000] 1 tree, 24 leaves, max depth = 5, train score: 0.82905, val score: 0.80442, in 0.003s\n",
      "[79/5000] 1 tree, 27 leaves, max depth = 5, train score: 0.82905, val score: 0.80442, in 0.002s\n",
      "[80/5000] 1 tree, 22 leaves, max depth = 5, train score: 0.82905, val score: 0.80442, in 0.003s\n",
      "[81/5000] 1 tree, 27 leaves, max depth = 5, train score: 0.82886, val score: 0.80442, in 0.004s\n",
      "[82/5000] 1 tree, 21 leaves, max depth = 5, train score: 0.82961, val score: 0.80612, in 0.005s\n",
      "[83/5000] 1 tree, 26 leaves, max depth = 5, train score: 0.82999, val score: 0.80612, in 0.004s\n",
      "[84/5000] 1 tree, 27 leaves, max depth = 5, train score: 0.82943, val score: 0.80612, in 0.004s\n",
      "[85/5000] 1 tree, 26 leaves, max depth = 5, train score: 0.82980, val score: 0.80612, in 0.004s\n",
      "[86/5000] 1 tree, 28 leaves, max depth = 5, train score: 0.82961, val score: 0.80612, in 0.005s\n",
      "[87/5000] 1 tree, 24 leaves, max depth = 5, train score: 0.82924, val score: 0.80612, in 0.004s\n",
      "[88/5000] 1 tree, 22 leaves, max depth = 5, train score: 0.82943, val score: 0.80612, in 0.005s\n",
      "[89/5000] 1 tree, 28 leaves, max depth = 5, train score: 0.82943, val score: 0.80442, in 0.005s\n",
      "[90/5000] 1 tree, 25 leaves, max depth = 5, train score: 0.83037, val score: 0.80272, in 0.005s\n",
      "[91/5000] 1 tree, 23 leaves, max depth = 5, train score: 0.83056, val score: 0.80272, in 0.005s\n",
      "[92/5000] 1 tree, 24 leaves, max depth = 5, train score: 0.83075, val score: 0.80272, in 0.004s\n",
      "[93/5000] 1 tree, 24 leaves, max depth = 5, train score: 0.82999, val score: 0.80442, in 0.005s\n",
      "[94/5000] 1 tree, 19 leaves, max depth = 5, train score: 0.83037, val score: 0.80442, in 0.006s\n",
      "[95/5000] 1 tree, 23 leaves, max depth = 5, train score: 0.83113, val score: 0.80102, in 0.011s\n",
      "[96/5000] 1 tree, 17 leaves, max depth = 5, train score: 0.83132, val score: 0.80272, in 0.004s\n",
      "[97/5000] 1 tree, 17 leaves, max depth = 5, train score: 0.83113, val score: 0.80272, in 0.006s\n",
      "[98/5000] 1 tree, 24 leaves, max depth = 5, train score: 0.83132, val score: 0.80272, in 0.006s\n",
      "[99/5000] 1 tree, 24 leaves, max depth = 5, train score: 0.83132, val score: 0.80272, in 0.003s\n",
      "[100/5000] 1 tree, 26 leaves, max depth = 5, train score: 0.83113, val score: 0.80272, in 0.004s\n",
      "[101/5000] 1 tree, 28 leaves, max depth = 5, train score: 0.83151, val score: 0.80272, in 0.008s\n",
      "[102/5000] 1 tree, 11 leaves, max depth = 5, train score: 0.83359, val score: 0.80782, in 0.004s\n",
      "[103/5000] 1 tree, 11 leaves, max depth = 5, train score: 0.83340, val score: 0.80782, in 0.004s\n",
      "[104/5000] 1 tree, 24 leaves, max depth = 5, train score: 0.83377, val score: 0.80782, in 0.004s\n",
      "[105/5000] 1 tree, 18 leaves, max depth = 5, train score: 0.83283, val score: 0.80952, in 0.004s\n",
      "[106/5000] 1 tree, 17 leaves, max depth = 5, train score: 0.83377, val score: 0.80782, in 0.000s\n",
      "[107/5000] 1 tree, 25 leaves, max depth = 5, train score: 0.83377, val score: 0.80782, in 0.008s\n",
      "[108/5000] 1 tree, 11 leaves, max depth = 5, train score: 0.83434, val score: 0.80782, in 0.006s\n",
      "[109/5000] 1 tree, 18 leaves, max depth = 5, train score: 0.83434, val score: 0.80782, in 0.000s\n",
      "[110/5000] 1 tree, 11 leaves, max depth = 5, train score: 0.83434, val score: 0.80612, in 0.009s\n",
      "[111/5000] 1 tree, 24 leaves, max depth = 5, train score: 0.83415, val score: 0.80612, in 0.004s\n",
      "[112/5000] 1 tree, 11 leaves, max depth = 5, train score: 0.83434, val score: 0.80782, in 0.004s\n",
      "[113/5000] 1 tree, 24 leaves, max depth = 5, train score: 0.83415, val score: 0.80612, in 0.002s\n",
      "[114/5000] 1 tree, 11 leaves, max depth = 5, train score: 0.83415, val score: 0.80782, in 0.003s\n",
      "[115/5000] 1 tree, 16 leaves, max depth = 5, train score: 0.83415, val score: 0.80782, in 0.003s\n",
      "[116/5000] 1 tree, 11 leaves, max depth = 5, train score: 0.83377, val score: 0.80782, in 0.007s\n",
      "[117/5000] 1 tree, 24 leaves, max depth = 5, train score: 0.83415, val score: 0.80782, in 0.004s\n",
      "[118/5000] 1 tree, 11 leaves, max depth = 5, train score: 0.83377, val score: 0.80782, in 0.004s\n",
      "[119/5000] 1 tree, 16 leaves, max depth = 5, train score: 0.83377, val score: 0.80782, in 0.003s\n",
      "[120/5000] 1 tree, 24 leaves, max depth = 5, train score: 0.83377, val score: 0.80782, in 0.005s\n",
      "[121/5000] 1 tree, 11 leaves, max depth = 5, train score: 0.83396, val score: 0.80782, in 0.003s\n",
      "[122/5000] 1 tree, 11 leaves, max depth = 5, train score: 0.83396, val score: 0.80782, in 0.000s\n",
      "[123/5000] 1 tree, 24 leaves, max depth = 5, train score: 0.83396, val score: 0.80782, in 0.005s\n",
      "[124/5000] 1 tree, 18 leaves, max depth = 5, train score: 0.83396, val score: 0.80782, in 0.006s\n",
      "[125/5000] 1 tree, 11 leaves, max depth = 5, train score: 0.83415, val score: 0.80782, in 0.003s\n",
      "[126/5000] 1 tree, 16 leaves, max depth = 5, train score: 0.83415, val score: 0.80782, in 0.002s\n",
      "[127/5000] 1 tree, 11 leaves, max depth = 5, train score: 0.83415, val score: 0.80782, in 0.003s\n",
      "[128/5000] 1 tree, 11 leaves, max depth = 5, train score: 0.83415, val score: 0.80782, in 0.002s\n",
      "[129/5000] 1 tree, 16 leaves, max depth = 5, train score: 0.83415, val score: 0.80782, in 0.003s\n",
      "[130/5000] 1 tree, 24 leaves, max depth = 5, train score: 0.83453, val score: 0.80782, in 0.003s\n",
      "[131/5000] 1 tree, 11 leaves, max depth = 5, train score: 0.83453, val score: 0.80782, in 0.003s\n",
      "[132/5000] 1 tree, 24 leaves, max depth = 5, train score: 0.83415, val score: 0.80782, in 0.004s\n",
      "[133/5000] 1 tree, 14 leaves, max depth = 5, train score: 0.83453, val score: 0.80782, in 0.003s\n",
      "[134/5000] 1 tree, 24 leaves, max depth = 5, train score: 0.83453, val score: 0.80782, in 0.003s\n",
      "[135/5000] 1 tree, 11 leaves, max depth = 5, train score: 0.83453, val score: 0.80782, in 0.003s\n",
      "[136/5000] 1 tree, 15 leaves, max depth = 5, train score: 0.83453, val score: 0.80782, in 0.015s\n",
      "[137/5000] 1 tree, 24 leaves, max depth = 5, train score: 0.83453, val score: 0.80782, in 0.003s\n",
      "[138/5000] 1 tree, 11 leaves, max depth = 5, train score: 0.83472, val score: 0.80782, in 0.003s\n",
      "[139/5000] 1 tree, 17 leaves, max depth = 5, train score: 0.83472, val score: 0.80782, in 0.003s\n",
      "[140/5000] 1 tree, 11 leaves, max depth = 5, train score: 0.83453, val score: 0.80782, in 0.003s\n",
      "[141/5000] 1 tree, 15 leaves, max depth = 5, train score: 0.83453, val score: 0.80782, in 0.003s\n",
      "[142/5000] 1 tree, 11 leaves, max depth = 5, train score: 0.83453, val score: 0.80782, in 0.003s\n",
      "[143/5000] 1 tree, 24 leaves, max depth = 5, train score: 0.83453, val score: 0.80782, in 0.007s\n",
      "[144/5000] 1 tree, 11 leaves, max depth = 5, train score: 0.83472, val score: 0.80782, in 0.003s\n",
      "[145/5000] 1 tree, 14 leaves, max depth = 5, train score: 0.83453, val score: 0.80782, in 0.003s\n",
      "[146/5000] 1 tree, 16 leaves, max depth = 5, train score: 0.83453, val score: 0.80782, in 0.003s\n",
      "[147/5000] 1 tree, 11 leaves, max depth = 5, train score: 0.83472, val score: 0.80782, in 0.003s\n",
      "[148/5000] 1 tree, 10 leaves, max depth = 5, train score: 0.83491, val score: 0.80782, in 0.002s\n",
      "[149/5000] 1 tree, 23 leaves, max depth = 5, train score: 0.83472, val score: 0.80782, in 0.004s\n",
      "[150/5000] 1 tree, 20 leaves, max depth = 5, train score: 0.83510, val score: 0.80782, in 0.002s\n",
      "Fit 150 trees in 0.674 s, (3302 total leaves)\n",
      "Time spent computing histograms: 0.040s\n",
      "Time spent finding best splits:  0.029s\n",
      "Time spent applying splits:      0.071s\n",
      "Time spent predicting:           0.012s\n",
      "Threshold 조정 전\n",
      "              precision    recall  f1-score   support\n",
      "\n",
      "      Stayed       0.95      0.94      0.95      3716\n",
      "      Exited       0.50      0.51      0.50       408\n",
      "\n",
      "    accuracy                           0.90      4124\n",
      "   macro avg       0.72      0.73      0.72      4124\n",
      "weighted avg       0.90      0.90      0.90      4124\n",
      "\n",
      "Threshold >= 0.4\n",
      "              precision    recall  f1-score   support\n",
      "\n",
      "      Stayed       0.95      0.91      0.93      3716\n",
      "      Exited       0.41      0.58      0.48       408\n",
      "\n",
      "    accuracy                           0.88      4124\n",
      "   macro avg       0.68      0.74      0.70      4124\n",
      "weighted avg       0.90      0.88      0.88      4124\n",
      "\n"
     ]
    },
    {
     "data": {
      "text/plain": [
       "<Figure size 640x480 with 1 Axes>"
      ],
      "image/png": "[encoded data removed]"
     },
     "metadata": {},
     "output_type": "display_data"
    }
   ],
   "execution_count": 81
  },
  {
   "metadata": {
    "ExecuteTime": {
     "end_time": "2025-06-04T03:36:39.452644Z",
     "start_time": "2025-06-04T03:36:39.386957Z"
    }
   },
   "cell_type": "code",
   "source": [
    "pca        = PCA(n_components=2)\n",
    "inputs2    = scaling(inputs, [\"Balance\", \"Age\"])\n",
    "pca_result = pd.DataFrame( pca.fit_transform(inputs2) )\n",
    "\n",
    "sns.scatterplot(x=pca_result[:, 0], y=pca_result[:, 1], hue=labels, palette=\"Set2\")\n",
    "plt.show()\n",
    "\n",
    "# pca_result = pd.concat([pca_result, labels], axis=1)\n",
    "# display(pca_result.head(3))\n",
    "#\n",
    "# fix, ax = plt.subplots(1, 2, figsize=(10,4))\n",
    "# ax[0].scatter(x=pca_result[pca_result[\"Exited\"] == 0][0], y=pca_result[pca_result[\"Exited\"] == 0][1], label=\"Stayed\")\n",
    "# ax[1].scatter(x=pca_result[pca_result[\"Exited\"] == 1][0], y=pca_result[pca_result[\"Exited\"] == 1][1], label=\"Exited\")\n",
    "#\n",
    "# plt.legend()\n",
    "# plt.grid(True)\n",
    "# plt.show()"
   ],
   "id": "542387b888f4a13b",
   "outputs": [
    {
     "ename": "KeyError",
     "evalue": "(slice(None, None, None), 0)",
     "output_type": "error",
     "traceback": [
      "\u001B[31m---------------------------------------------------------------------------\u001B[39m",
      "\u001B[31mKeyError\u001B[39m                                  Traceback (most recent call last)",
      "\u001B[36mCell\u001B[39m\u001B[36m \u001B[39m\u001B[32mIn[113]\u001B[39m\u001B[32m, line 5\u001B[39m\n\u001B[32m      2\u001B[39m inputs2    = scaling(inputs, [\u001B[33m\"\u001B[39m\u001B[33mBalance\u001B[39m\u001B[33m\"\u001B[39m, \u001B[33m\"\u001B[39m\u001B[33mAge\u001B[39m\u001B[33m\"\u001B[39m])\n\u001B[32m      3\u001B[39m pca_result = pd.DataFrame( pca.fit_transform(inputs2) )\n\u001B[32m----> \u001B[39m\u001B[32m5\u001B[39m sns.scatterplot(x=\u001B[43mpca_result\u001B[49m\u001B[43m[\u001B[49m\u001B[43m:\u001B[49m\u001B[43m,\u001B[49m\u001B[43m \u001B[49m\u001B[32;43m0\u001B[39;49m\u001B[43m]\u001B[49m, y=pca_result[:, \u001B[32m1\u001B[39m], hue=labels, palette=\u001B[33m\"\u001B[39m\u001B[33mSet2\u001B[39m\u001B[33m\"\u001B[39m)\n\u001B[32m      6\u001B[39m plt.show()\n\u001B[32m      8\u001B[39m \u001B[38;5;66;03m# pca_result = pd.concat([pca_result, labels], axis=1)\u001B[39;00m\n\u001B[32m      9\u001B[39m \u001B[38;5;66;03m# display(pca_result.head(3))\u001B[39;00m\n\u001B[32m     10\u001B[39m \u001B[38;5;66;03m#\u001B[39;00m\n\u001B[32m   (...)\u001B[39m\u001B[32m     16\u001B[39m \u001B[38;5;66;03m# plt.grid(True)\u001B[39;00m\n\u001B[32m     17\u001B[39m \u001B[38;5;66;03m# plt.show()\u001B[39;00m\n",
      "\u001B[36mFile \u001B[39m\u001B[32m~\\miniconda3\\envs\\ai_basic_env\\Lib\\site-packages\\pandas\\core\\frame.py:4102\u001B[39m, in \u001B[36mDataFrame.__getitem__\u001B[39m\u001B[34m(self, key)\u001B[39m\n\u001B[32m   4100\u001B[39m \u001B[38;5;28;01mif\u001B[39;00m \u001B[38;5;28mself\u001B[39m.columns.nlevels > \u001B[32m1\u001B[39m:\n\u001B[32m   4101\u001B[39m     \u001B[38;5;28;01mreturn\u001B[39;00m \u001B[38;5;28mself\u001B[39m._getitem_multilevel(key)\n\u001B[32m-> \u001B[39m\u001B[32m4102\u001B[39m indexer = \u001B[38;5;28;43mself\u001B[39;49m\u001B[43m.\u001B[49m\u001B[43mcolumns\u001B[49m\u001B[43m.\u001B[49m\u001B[43mget_loc\u001B[49m\u001B[43m(\u001B[49m\u001B[43mkey\u001B[49m\u001B[43m)\u001B[49m\n\u001B[32m   4103\u001B[39m \u001B[38;5;28;01mif\u001B[39;00m is_integer(indexer):\n\u001B[32m   4104\u001B[39m     indexer = [indexer]\n",
      "\u001B[36mFile \u001B[39m\u001B[32m~\\miniconda3\\envs\\ai_basic_env\\Lib\\site-packages\\pandas\\core\\indexes\\range.py:417\u001B[39m, in \u001B[36mRangeIndex.get_loc\u001B[39m\u001B[34m(self, key)\u001B[39m\n\u001B[32m    415\u001B[39m         \u001B[38;5;28;01mraise\u001B[39;00m \u001B[38;5;167;01mKeyError\u001B[39;00m(key) \u001B[38;5;28;01mfrom\u001B[39;00m\u001B[38;5;250m \u001B[39m\u001B[34;01merr\u001B[39;00m\n\u001B[32m    416\u001B[39m \u001B[38;5;28;01mif\u001B[39;00m \u001B[38;5;28misinstance\u001B[39m(key, Hashable):\n\u001B[32m--> \u001B[39m\u001B[32m417\u001B[39m     \u001B[38;5;28;01mraise\u001B[39;00m \u001B[38;5;167;01mKeyError\u001B[39;00m(key)\n\u001B[32m    418\u001B[39m \u001B[38;5;28mself\u001B[39m._check_indexing_error(key)\n\u001B[32m    419\u001B[39m \u001B[38;5;28;01mraise\u001B[39;00m \u001B[38;5;167;01mKeyError\u001B[39;00m(key)\n",
      "\u001B[31mKeyError\u001B[39m: (slice(None, None, None), 0)"
     ]
    }
   ],
   "execution_count": 113
  }
 ],
 "metadata": {
  "kernelspec": {
   "display_name": "Python 3",
   "language": "python",
   "name": "python3"
  },
  "language_info": {
   "codemirror_mode": {
    "name": "ipython",
    "version": 2
   },
   "file_extension": ".py",
   "mimetype": "text/x-python",
   "name": "python",
   "nbconvert_exporter": "python",
   "pygments_lexer": "ipython2",
   "version": "2.7.6"
  }
 },
 "nbformat": 4,
 "nbformat_minor": 5
}
