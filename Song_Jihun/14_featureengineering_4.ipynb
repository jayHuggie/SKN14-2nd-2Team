{
 "cells": [
  {
   "metadata": {},
   "cell_type": "markdown",
   "source": [
    "<style>\n",
    "    rd { color:red; }\n",
    "    bl { color:blue; }\n",
    "</style>"
   ],
   "id": "559c2d642dc5d9bd"
  },
  {
   "metadata": {},
   "cell_type": "markdown",
   "source": [
    "# 잔류데이터셋 크기를 줄여 균형데이터로 만들었을 때\n",
    "## 전처리\n",
    "| 작업        | 대상                                                                                       |\n",
    "|:------------|:-------------------------------------------------------------------------------------------|\n",
    "| 컬럼 삭제   | \"RowNumber\", \"CustomerId\", \"Surname\"                                                       |\n",
    "| 컬럼 인코딩 | \"Geography\", \"Gender\"                                                                      |\n",
    "| 컬럼 라벨링 | \"CreditScore\", \"Geography\", \"Age\", \"Tenure\", \"Balance\", \"NumOfProducts\", \"EstimatedSalary\" |\n",
    "\n",
    "### 스케일링 : StandardScaler\n",
    "\n",
    "## 하이퍼파라미터\n",
    "- RandomForest\n",
    "    - 순성\n",
    "\n",
    "## 결론 : 정확도가 더 떨어짐"
   ],
   "id": "e04b075cc9e028a6"
  },
  {
   "cell_type": "code",
   "id": "176db71343567c42",
   "metadata": {
    "ExecuteTime": {
     "end_time": "2025-06-02T09:07:03.833752Z",
     "start_time": "2025-06-02T09:07:03.822353Z"
    }
   },
   "source": [
    "import numpy             as np\n",
    "import pandas            as pd\n",
    "import matplotlib.pyplot as plt\n",
    "import seaborn           as sns\n",
    "\n",
    "import matplotlib\n",
    "import matplotlib.font_manager as fm\n",
    "\n",
    "import re\n",
    "\n",
    "from sklearn.metrics import accuracy_score, classification_report\n",
    "from sklearn.model_selection import train_test_split\n",
    "\n",
    "from sklearn.ensemble import RandomForestClassifier\n",
    "from sklearn.preprocessing import StandardScaler, LabelEncoder"
   ],
   "outputs": [],
   "execution_count": 49
  },
  {
   "metadata": {
    "ExecuteTime": {
     "end_time": "2025-06-02T09:07:03.857596Z",
     "start_time": "2025-06-02T09:07:03.838036Z"
    }
   },
   "cell_type": "code",
   "source": [
    "def encoding(df:pd.DataFrame, columns:list[str]):\n",
    "    \"\"\"범주형 데이터를 인코딩\"\"\"\n",
    "\n",
    "    encoder_list = {}\n",
    "    result_df    = df.copy(deep=True)\n",
    "\n",
    "    for col_nm in columns:\n",
    "        encoder           = LabelEncoder()\n",
    "        result_df[col_nm] = encoder.fit_transform(result_df[col_nm])\n",
    "\n",
    "        encoder_list[col_nm] = encoder\n",
    "\n",
    "    return result_df, encoder_list\n",
    "\n",
    "\n",
    "def scaling(df:pd.DataFrame, columns:list[str]):\n",
    "    \"\"\"DataFrame 에서 컬럼들을 스케일링\"\"\"\n",
    "\n",
    "    scaler    = StandardScaler()\n",
    "    result_df = df.copy(deep=True)\n",
    "\n",
    "    result_df[columns] = scaler.fit_transform(result_df[columns])\n",
    "\n",
    "    return result_df"
   ],
   "id": "e85e907202504aef",
   "outputs": [],
   "execution_count": 50
  },
  {
   "metadata": {},
   "cell_type": "markdown",
   "source": "## 데이터 로드 및 전처리",
   "id": "2d9aae1e9da8dd90"
  },
  {
   "metadata": {
    "ExecuteTime": {
     "end_time": "2025-06-02T09:07:03.940785Z",
     "start_time": "2025-06-02T09:07:03.907396Z"
    }
   },
   "cell_type": "code",
   "source": [
    "######################################### 데이터 로드\n",
    "df     = pd.read_csv(\"../data/Churn_Modelling.csv\")\n",
    "# inputs = df.drop(columns=[\"Exited\"], axis=1)\n",
    "# labels = df[\"Exited\"]\n",
    "\n",
    "exited = df[df[\"Exited\"] == 1]\n",
    "stayed = df[df[\"Exited\"] == 0]\n",
    "stayed = stayed.sample(n=len(exited), replace=False)\n",
    "\n",
    "inputs = pd.concat([stayed, exited]).drop(columns=[\"Exited\"], axis=1)\n",
    "labels = pd.concat([stayed, exited])[\"Exited\"]\n",
    "\n",
    "####################################### 데이터 전처리\n",
    "_input = inputs.drop(columns=[\"RowNumber\", \"CustomerId\", \"Surname\"], axis=1)     # 컬럼 삭제( Rownumber, CustomerId, Surname )\n",
    "_input, encoders = encoding(_input, [\"Geography\", \"Gender\"])            # 범주형 문자열 데이터 인코딩\n",
    "_input = scaling(_input, [\"CreditScore\", \"Geography\", \"Age\", \"Tenure\", \"Balance\", \"NumOfProducts\", \"EstimatedSalary\"])"
   ],
   "id": "9320ccba123b53ac",
   "outputs": [],
   "execution_count": 51
  },
  {
   "metadata": {
    "ExecuteTime": {
     "end_time": "2025-06-02T09:07:03.981810Z",
     "start_time": "2025-06-02T09:07:03.971533Z"
    }
   },
   "cell_type": "code",
   "source": "print(_input.info(), \"\\n\")",
   "id": "1cc759af73480643",
   "outputs": [
    {
     "name": "stdout",
     "output_type": "stream",
     "text": [
      "<class 'pandas.core.frame.DataFrame'>\n",
      "Index: 4074 entries, 2067 to 9998\n",
      "Data columns (total 10 columns):\n",
      " #   Column           Non-Null Count  Dtype  \n",
      "---  ------           --------------  -----  \n",
      " 0   CreditScore      4074 non-null   float64\n",
      " 1   Geography        4074 non-null   float64\n",
      " 2   Gender           4074 non-null   int64  \n",
      " 3   Age              4074 non-null   float64\n",
      " 4   Tenure           4074 non-null   float64\n",
      " 5   Balance          4074 non-null   float64\n",
      " 6   NumOfProducts    4074 non-null   float64\n",
      " 7   HasCrCard        4074 non-null   int64  \n",
      " 8   IsActiveMember   4074 non-null   int64  \n",
      " 9   EstimatedSalary  4074 non-null   float64\n",
      "dtypes: float64(7), int64(3)\n",
      "memory usage: 350.1 KB\n",
      "None \n",
      "\n"
     ]
    }
   ],
   "execution_count": 52
  },
  {
   "metadata": {
    "ExecuteTime": {
     "end_time": "2025-06-02T09:07:04.088942Z",
     "start_time": "2025-06-02T09:07:04.075944Z"
    }
   },
   "cell_type": "code",
   "source": "print(_input.value_counts(), \"\\n\")",
   "id": "bc9aa03746c10880",
   "outputs": [
    {
     "name": "stdout",
     "output_type": "stream",
     "text": [
      "CreditScore  Geography  Gender  Age        Tenure     Balance    NumOfProducts  HasCrCard  IsActiveMember  EstimatedSalary\n",
      " 2.067609     1.531443  1        2.823300   1.735964  -0.193963  -0.759500      1          0               -0.054465          1\n",
      "-3.038817    -0.959215  0       -0.097288  -1.715631   0.478729  -0.759500      1          1                1.241588          1\n",
      "                                 1.786962  -0.680152  -1.322525  -0.759500      0          0                0.222458          1\n",
      "                        1        0.939049   1.735964  -1.322525  -0.759500      1          1                0.431902          1\n",
      "              0.286114  1       -0.191501  -1.715631   0.456587   0.731682      0          0                0.393215          1\n",
      "                                                                                                                             ..\n",
      "-2.773283     0.286114  0       -1.133626  -0.334993   0.542736   3.714045      1          0                0.319116          1\n",
      "-2.712006     1.531443  1       -0.474138  -1.715631  -1.322525  -0.759500      1          1                1.367305          1\n",
      "-2.701793     1.531443  0        0.656412   1.045645   0.230820  -0.759500      0          0                0.638744          1\n",
      "-2.671154     1.531443  0        1.127474  -1.370472   0.816872  -0.759500      1          1               -0.670535          1\n",
      "-2.579239     0.286114  0       -0.662563   0.010167   0.396249  -0.759500      1          1               -1.456550          1\n",
      "Name: count, Length: 4074, dtype: int64 \n",
      "\n"
     ]
    }
   ],
   "execution_count": 53
  },
  {
   "metadata": {},
   "cell_type": "markdown",
   "source": "## 데이터 분할",
   "id": "93785a334ff273b1"
  },
  {
   "metadata": {
    "ExecuteTime": {
     "end_time": "2025-06-02T09:01:36.949075Z",
     "start_time": "2025-06-02T09:01:36.939648Z"
    }
   },
   "cell_type": "code",
   "source": [
    "######################################### 데이터 분할. random_state 지정한 상태에서 성능 확인/개선해보고, state 풀었을 때도 보기.\n",
    "train_x, test_x, train_y, test_y = train_test_split(_input, labels, stratify=labels)\n",
    "print(\"학습 데이터 shape : \", train_x.shape, train_y.shape)\n",
    "print(\"검증 데이터 shape : \",  test_x.shape,  test_y.shape, \"\\n\")"
   ],
   "id": "97d39ed511f967e7",
   "outputs": [
    {
     "name": "stdout",
     "output_type": "stream",
     "text": [
      "학습 데이터 shape :  (3055, 10) (3055,)\n",
      "검증 데이터 shape :  (1019, 10) (1019,) \n",
      "\n"
     ]
    }
   ],
   "execution_count": 42
  },
  {
   "metadata": {},
   "cell_type": "markdown",
   "source": [
    "## 모델 학습 및 평가 - max_features=\"log2\", max_depth=5\n",
    "순정에 비해 정밀도는 <rd>상승</rd>, 재현율은 <bl>하락</bl>, F1점수는 <bl>하락</bl>"
   ],
   "id": "572c908ff4bc8a57"
  },
  {
   "metadata": {
    "ExecuteTime": {
     "end_time": "2025-06-02T09:07:10.019802Z",
     "start_time": "2025-06-02T09:07:08.964206Z"
    }
   },
   "cell_type": "code",
   "source": [
    "######################################### 모델 학습\n",
    "model = RandomForestClassifier(n_estimators=300, max_depth=10, min_samples_leaf=10)\n",
    "model.fit(train_x, train_y)\n",
    "\n",
    "\n",
    "######################################### 모델 성능 평가\n",
    "predicted = model.predict(test_x)\n",
    "print(classification_report(test_y, predicted, target_names=[\"Stayed\", \"Exited\"]))"
   ],
   "id": "276e2056321e9a9f",
   "outputs": [
    {
     "name": "stdout",
     "output_type": "stream",
     "text": [
      "              precision    recall  f1-score   support\n",
      "\n",
      "      Stayed       0.75      0.77      0.76       510\n",
      "      Exited       0.76      0.74      0.75       509\n",
      "\n",
      "    accuracy                           0.76      1019\n",
      "   macro avg       0.76      0.76      0.76      1019\n",
      "weighted avg       0.76      0.76      0.76      1019\n",
      "\n"
     ]
    }
   ],
   "execution_count": 54
  },
  {
   "metadata": {},
   "cell_type": "markdown",
   "source": [
    "## 모델 학습 및 평가 - max_features=None, max_depth=5\n",
    "순정에 유의미한 변화 없음"
   ],
   "id": "c0d879bb43a1f80e"
  },
  {
   "metadata": {
    "collapsed": true,
    "ExecuteTime": {
     "end_time": "2025-06-02T09:07:11.944547Z",
     "start_time": "2025-06-02T09:07:11.673951Z"
    }
   },
   "cell_type": "code",
   "source": [
    "from xgboost import XGBClassifier\n",
    "\n",
    "######################################### 모델 학습\n",
    "model = XGBClassifier(n_estimators=500, learning_rate=0.005, max_depth=5)             # 0.85\n",
    "model.fit(train_x, train_y)\n",
    "\n",
    "\n",
    "######################################### 모델 성능 평가\n",
    "predicted = model.predict(test_x)\n",
    "print(classification_report(test_y, predicted, target_names=[\"Stayed\", \"Exited\"]))"
   ],
   "id": "initial_id",
   "outputs": [
    {
     "name": "stdout",
     "output_type": "stream",
     "text": [
      "              precision    recall  f1-score   support\n",
      "\n",
      "      Stayed       0.74      0.76      0.75       510\n",
      "      Exited       0.76      0.73      0.75       509\n",
      "\n",
      "    accuracy                           0.75      1019\n",
      "   macro avg       0.75      0.75      0.75      1019\n",
      "weighted avg       0.75      0.75      0.75      1019\n",
      "\n"
     ]
    }
   ],
   "execution_count": 55
  }
 ],
 "metadata": {
  "kernelspec": {
   "display_name": "Python 3",
   "language": "python",
   "name": "python3"
  },
  "language_info": {
   "codemirror_mode": {
    "name": "ipython",
    "version": 2
   },
   "file_extension": ".py",
   "mimetype": "text/x-python",
   "name": "python",
   "nbconvert_exporter": "python",
   "pygments_lexer": "ipython2",
   "version": "2.7.6"
  }
 },
 "nbformat": 4,
 "nbformat_minor": 5
}
