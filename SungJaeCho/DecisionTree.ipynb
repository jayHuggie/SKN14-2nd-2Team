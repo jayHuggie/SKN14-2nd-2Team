{
 "cells": [
  {
   "metadata": {},
   "cell_type": "markdown",
   "source": "# DecisionTree",
   "id": "858c949b345882ca"
  },
  {
   "metadata": {
    "collapsed": true,
    "ExecuteTime": {
     "end_time": "2025-06-02T10:51:39.882648Z",
     "start_time": "2025-06-02T10:51:39.878812Z"
    }
   },
   "cell_type": "code",
   "source": [
    "import LinearRegression\n",
    "import numpy as np\n",
    "import pandas as pd\n",
    "import matplotlib.pyplot as plt\n",
    "import seaborn as sns\n",
    "from sklearn.utils import resample\n",
    "from sklearn.model_selection import train_test_split\n",
    "from sklearn.preprocessing import StandardScaler\n",
    "from sklearn.model_selection import GridSearchCV\n",
    "from sklearn.metrics import accuracy_score, classification_report, confusion_matrix\n",
    "from sklearn.tree import DecisionTreeClassifier\n",
    "from sklearn.metrics import mean_squared_error"
   ],
   "id": "initial_id",
   "outputs": [],
   "execution_count": 32
  },
  {
   "metadata": {
    "ExecuteTime": {
     "end_time": "2025-06-02T10:48:39.704777Z",
     "start_time": "2025-06-02T10:48:39.686363Z"
    }
   },
   "cell_type": "code",
   "source": [
    "data = pd.read_csv('data/Churn_Modelling.csv')\n",
    "data.head()"
   ],
   "id": "5ad1ba54dd6c01f5",
   "outputs": [
    {
     "data": {
      "text/plain": [
       "   RowNumber  CustomerId   Surname  CreditScore Geography  Gender  Age  \\\n",
       "0          1    15634602  Hargrave          619    France  Female   42   \n",
       "1          2    15647311      Hill          608     Spain  Female   41   \n",
       "2          3    15619304      Onio          502    France  Female   42   \n",
       "3          4    15701354      Boni          699    France  Female   39   \n",
       "4          5    15737888  Mitchell          850     Spain  Female   43   \n",
       "\n",
       "   Tenure    Balance  NumOfProducts  HasCrCard  IsActiveMember  \\\n",
       "0       2       0.00              1          1               1   \n",
       "1       1   83807.86              1          0               1   \n",
       "2       8  159660.80              3          1               0   \n",
       "3       1       0.00              2          0               0   \n",
       "4       2  125510.82              1          1               1   \n",
       "\n",
       "   EstimatedSalary  Exited  \n",
       "0        101348.88       1  \n",
       "1        112542.58       0  \n",
       "2        113931.57       1  \n",
       "3         93826.63       0  \n",
       "4         79084.10       0  "
      ],
      "text/html": [
       "<div>\n",
       "<style scoped>\n",
       "    .dataframe tbody tr th:only-of-type {\n",
       "        vertical-align: middle;\n",
       "    }\n",
       "\n",
       "    .dataframe tbody tr th {\n",
       "        vertical-align: top;\n",
       "    }\n",
       "\n",
       "    .dataframe thead th {\n",
       "        text-align: right;\n",
       "    }\n",
       "</style>\n",
       "<table border=\"1\" class=\"dataframe\">\n",
       "  <thead>\n",
       "    <tr style=\"text-align: right;\">\n",
       "      <th></th>\n",
       "      <th>RowNumber</th>\n",
       "      <th>CustomerId</th>\n",
       "      <th>Surname</th>\n",
       "      <th>CreditScore</th>\n",
       "      <th>Geography</th>\n",
       "      <th>Gender</th>\n",
       "      <th>Age</th>\n",
       "      <th>Tenure</th>\n",
       "      <th>Balance</th>\n",
       "      <th>NumOfProducts</th>\n",
       "      <th>HasCrCard</th>\n",
       "      <th>IsActiveMember</th>\n",
       "      <th>EstimatedSalary</th>\n",
       "      <th>Exited</th>\n",
       "    </tr>\n",
       "  </thead>\n",
       "  <tbody>\n",
       "    <tr>\n",
       "      <th>0</th>\n",
       "      <td>1</td>\n",
       "      <td>15634602</td>\n",
       "      <td>Hargrave</td>\n",
       "      <td>619</td>\n",
       "      <td>France</td>\n",
       "      <td>Female</td>\n",
       "      <td>42</td>\n",
       "      <td>2</td>\n",
       "      <td>0.00</td>\n",
       "      <td>1</td>\n",
       "      <td>1</td>\n",
       "      <td>1</td>\n",
       "      <td>101348.88</td>\n",
       "      <td>1</td>\n",
       "    </tr>\n",
       "    <tr>\n",
       "      <th>1</th>\n",
       "      <td>2</td>\n",
       "      <td>15647311</td>\n",
       "      <td>Hill</td>\n",
       "      <td>608</td>\n",
       "      <td>Spain</td>\n",
       "      <td>Female</td>\n",
       "      <td>41</td>\n",
       "      <td>1</td>\n",
       "      <td>83807.86</td>\n",
       "      <td>1</td>\n",
       "      <td>0</td>\n",
       "      <td>1</td>\n",
       "      <td>112542.58</td>\n",
       "      <td>0</td>\n",
       "    </tr>\n",
       "    <tr>\n",
       "      <th>2</th>\n",
       "      <td>3</td>\n",
       "      <td>15619304</td>\n",
       "      <td>Onio</td>\n",
       "      <td>502</td>\n",
       "      <td>France</td>\n",
       "      <td>Female</td>\n",
       "      <td>42</td>\n",
       "      <td>8</td>\n",
       "      <td>159660.80</td>\n",
       "      <td>3</td>\n",
       "      <td>1</td>\n",
       "      <td>0</td>\n",
       "      <td>113931.57</td>\n",
       "      <td>1</td>\n",
       "    </tr>\n",
       "    <tr>\n",
       "      <th>3</th>\n",
       "      <td>4</td>\n",
       "      <td>15701354</td>\n",
       "      <td>Boni</td>\n",
       "      <td>699</td>\n",
       "      <td>France</td>\n",
       "      <td>Female</td>\n",
       "      <td>39</td>\n",
       "      <td>1</td>\n",
       "      <td>0.00</td>\n",
       "      <td>2</td>\n",
       "      <td>0</td>\n",
       "      <td>0</td>\n",
       "      <td>93826.63</td>\n",
       "      <td>0</td>\n",
       "    </tr>\n",
       "    <tr>\n",
       "      <th>4</th>\n",
       "      <td>5</td>\n",
       "      <td>15737888</td>\n",
       "      <td>Mitchell</td>\n",
       "      <td>850</td>\n",
       "      <td>Spain</td>\n",
       "      <td>Female</td>\n",
       "      <td>43</td>\n",
       "      <td>2</td>\n",
       "      <td>125510.82</td>\n",
       "      <td>1</td>\n",
       "      <td>1</td>\n",
       "      <td>1</td>\n",
       "      <td>79084.10</td>\n",
       "      <td>0</td>\n",
       "    </tr>\n",
       "  </tbody>\n",
       "</table>\n",
       "</div>"
      ]
     },
     "execution_count": 24,
     "metadata": {},
     "output_type": "execute_result"
    }
   ],
   "execution_count": 24
  },
  {
   "metadata": {},
   "cell_type": "markdown",
   "source": "## 1. 데이터 전처리",
   "id": "589d5b719e537908"
  },
  {
   "metadata": {},
   "cell_type": "markdown",
   "source": "### 1-1 오버샘플링",
   "id": "c073f04c24c7a5e3"
  },
  {
   "metadata": {
    "ExecuteTime": {
     "end_time": "2025-06-02T10:48:39.738594Z",
     "start_time": "2025-06-02T10:48:39.729544Z"
    }
   },
   "cell_type": "code",
   "source": [
    "def perform_oversampling(data, label_column):\n",
    "    # 다수 클래스와 소수 클래스 분리\n",
    "    majority = data[data[label_column] == 0]\n",
    "    minority = data[data[label_column] == 1]\n",
    "\n",
    "    # 소수 클래스 오버샘플링\n",
    "    minority_upsampled = resample(\n",
    "        minority,\n",
    "        replace=True, # 복원추출\n",
    "        n_samples=len(majority), # 다수클래스 수만큼 소수클래스 늘리기\n",
    "        random_state=42\n",
    "    )\n",
    "\n",
    "    # 병합 및 셔플\n",
    "    upsampled_data = pd.concat([majority, minority_upsampled]) # 기존다수의 클래스와 소수 클래스를 합치기\n",
    "    return upsampled_data.sample(frac=1, random_state=42).reset_index(drop=True)\n",
    "\n",
    "# 사용 예시\n",
    "upsampled_df = perform_oversampling(data, label_column='Exited')\n",
    "data = upsampled_df"
   ],
   "id": "b2f48203e765d08e",
   "outputs": [],
   "execution_count": 25
  },
  {
   "metadata": {},
   "cell_type": "markdown",
   "source": "### 1-2. feature engineering",
   "id": "7d9a34734aacd19c"
  },
  {
   "metadata": {
    "ExecuteTime": {
     "end_time": "2025-06-02T10:48:39.764909Z",
     "start_time": "2025-06-02T10:48:39.759277Z"
    }
   },
   "cell_type": "code",
   "source": [
    "# 지역 원핫인코딩 실시\n",
    "data = pd.get_dummies(data, columns=['Geography', 'Gender'], dtype=int)"
   ],
   "id": "779c991cc63ee00f",
   "outputs": [],
   "execution_count": 26
  },
  {
   "metadata": {
    "ExecuteTime": {
     "end_time": "2025-06-02T10:48:39.819952Z",
     "start_time": "2025-06-02T10:48:39.791413Z"
    }
   },
   "cell_type": "code",
   "source": [
    "# 연속형 변수들을 로그 스케일링 실시 ('Age','Balance')\n",
    "data['LogAge'] = data['Age'].apply(lambda x: np.log1p(x))\n",
    "data['LogBalance'] = data['Balance'].apply(lambda x: np.log1p(x))"
   ],
   "id": "e37c927273eec515",
   "outputs": [],
   "execution_count": 27
  },
  {
   "metadata": {},
   "cell_type": "markdown",
   "source": "### 1-3 데이터분할 및 스케일링",
   "id": "91fc806c844be2e6"
  },
  {
   "metadata": {
    "ExecuteTime": {
     "end_time": "2025-06-02T10:48:39.843356Z",
     "start_time": "2025-06-02T10:48:39.834212Z"
    }
   },
   "cell_type": "code",
   "source": [
    "# 안쓰는 칼럼 제거\n",
    "data = data.drop(columns=['RowNumber', 'CustomerId', 'Surname'])\n",
    "\n",
    "# 로그칼럼들을 적용\n",
    "X = data.drop(columns=['Exited', 'Balance', 'Age'])\n",
    "y = data['Exited']\n",
    "\n",
    "Banking_df = pd.DataFrame(X, columns=X.columns) # 칼럼이름 보존\n",
    "\n",
    "X_train, X_test, y_train, y_test = train_test_split(Banking_df, y, test_size=0.2, random_state=42)\n",
    "\n",
    "scaler = StandardScaler()\n",
    "X_train = scaler.fit_transform(X_train)\n",
    "X_test = scaler.transform(X_test)"
   ],
   "id": "602add987cfa0427",
   "outputs": [],
   "execution_count": 28
  },
  {
   "metadata": {},
   "cell_type": "markdown",
   "source": "# 2. 머신러닝",
   "id": "18e2dff81ff538a1"
  },
  {
   "metadata": {
    "ExecuteTime": {
     "end_time": "2025-06-02T10:55:39.698892Z",
     "start_time": "2025-06-02T10:55:37.246655Z"
    }
   },
   "cell_type": "code",
   "source": [
    "# DecisionTree 생성\n",
    "dt_clf = DecisionTreeClassifier(\n",
    "    random_state=42,\n",
    "    max_depth=5,\n",
    "    min_samples_split=100,\n",
    "    min_samples_leaf=5,\n",
    "\n",
    ")\n",
    "dt_clf.fit(X_train, y_train)\n",
    "\n",
    "# 하이퍼파라미터 최적화\n",
    "param_grid ={\n",
    "    'criterion': ['gini', 'entropy'],\n",
    "    'max_depth': [3, 4, 5],\n",
    "    'min_samples_split': [2, 3],\n",
    "    'min_samples_leaf': [1, 2]\n",
    "}\n",
    "\n",
    "grid_search = GridSearchCV(\n",
    "    estimator=dt_clf,\n",
    "    param_grid=param_grid,\n",
    "    cv=3, # 교차검증 폴드 수\n",
    "    n_jobs=-1, # 병렬 처리 (가능한 모든 코어 사용)\n",
    "    scoring='accuracy') # n_jobs는 cpu개수 제한\n",
    "\n",
    "grid_search.fit(X_train, y_train)\n",
    "\n",
    "print('best_params_:', grid_search.best_params_)\n",
    "print('best_score_:', grid_search.best_score_)\n",
    "\n",
    "best_model = grid_search.best_estimator_\n",
    "\n",
    "# 테스트셋 예측 및 성능 평가\n",
    "y_pred = best_model.predict(X_test)\n",
    "print(\"Accuracy (Test):\", accuracy_score(y_test, y_pred))\n",
    "print(\"\\nClassification Report:\\n\", classification_report(y_test, y_pred))\n",
    "print(\"\\nConfusion Matrix:\\n\", confusion_matrix(y_test, y_pred))"
   ],
   "id": "c6ffef91b223803f",
   "outputs": [
    {
     "name": "stdout",
     "output_type": "stream",
     "text": [
      "best_params_: {'criterion': 'gini', 'max_depth': 5, 'min_samples_leaf': 1, 'min_samples_split': 2}\n",
      "best_score_: 0.7645212456453795\n",
      "Accuracy (Test): 0.7655367231638418\n",
      "\n",
      "Classification Report:\n",
      "               precision    recall  f1-score   support\n",
      "\n",
      "           0       0.78      0.75      0.77      1627\n",
      "           1       0.75      0.78      0.76      1559\n",
      "\n",
      "    accuracy                           0.77      3186\n",
      "   macro avg       0.77      0.77      0.77      3186\n",
      "weighted avg       0.77      0.77      0.77      3186\n",
      "\n",
      "\n",
      "Confusion Matrix:\n",
      " [[1227  400]\n",
      " [ 347 1212]]\n"
     ]
    }
   ],
   "execution_count": 34
  },
  {
   "metadata": {
    "ExecuteTime": {
     "end_time": "2025-06-02T15:53:41.475628Z",
     "start_time": "2025-06-02T15:53:40.716408Z"
    }
   },
   "cell_type": "code",
   "source": "!pip install imbalanced-learn",
   "id": "ce64bc3ba7a34fa9",
   "outputs": [
    {
     "name": "stdout",
     "output_type": "stream",
     "text": [
      "Requirement already satisfied: imbalanced-learn in /Users/joseongjae/anaconda3/envs/ai_basic_env/lib/python3.12/site-packages (0.13.0)\r\n",
      "Requirement already satisfied: numpy<3,>=1.24.3 in /Users/joseongjae/anaconda3/envs/ai_basic_env/lib/python3.12/site-packages (from imbalanced-learn) (2.2.6)\r\n",
      "Requirement already satisfied: scipy<2,>=1.10.1 in /Users/joseongjae/anaconda3/envs/ai_basic_env/lib/python3.12/site-packages (from imbalanced-learn) (1.15.2)\r\n",
      "Requirement already satisfied: scikit-learn<2,>=1.3.2 in /Users/joseongjae/anaconda3/envs/ai_basic_env/lib/python3.12/site-packages (from imbalanced-learn) (1.6.1)\r\n",
      "Requirement already satisfied: sklearn-compat<1,>=0.1 in /Users/joseongjae/anaconda3/envs/ai_basic_env/lib/python3.12/site-packages (from imbalanced-learn) (0.1.3)\r\n",
      "Requirement already satisfied: joblib<2,>=1.1.1 in /Users/joseongjae/anaconda3/envs/ai_basic_env/lib/python3.12/site-packages (from imbalanced-learn) (1.5.0)\r\n",
      "Requirement already satisfied: threadpoolctl<4,>=2.0.0 in /Users/joseongjae/anaconda3/envs/ai_basic_env/lib/python3.12/site-packages (from imbalanced-learn) (3.6.0)\r\n"
     ]
    }
   ],
   "execution_count": 35
  },
  {
   "metadata": {
    "ExecuteTime": {
     "end_time": "2025-06-02T15:55:20.520135Z",
     "start_time": "2025-06-02T15:55:20.258411Z"
    }
   },
   "cell_type": "code",
   "source": [
    "import imblearn\n",
    "print(imblearn.__version__)"
   ],
   "id": "35776b4defccfb71",
   "outputs": [
    {
     "name": "stdout",
     "output_type": "stream",
     "text": [
      "0.13.0\n"
     ]
    }
   ],
   "execution_count": 36
  },
  {
   "metadata": {
    "ExecuteTime": {
     "end_time": "2025-06-02T15:56:11.601042Z",
     "start_time": "2025-06-02T15:56:11.406731Z"
    }
   },
   "cell_type": "code",
   "source": [
    "from imblearn.over_sampling import SMOTE\n",
    "from sklearn.ensemble import RandomForestClassifier\n",
    "from sklearn.metrics import classification_report, confusion_matrix\n",
    "import numpy as np\n",
    "\n",
    "# SMOTE 오버샘플링 적용\n",
    "smote = SMOTE(random_state=42)\n",
    "X_train_resampled, y_train_resampled = smote.fit_resample(X_train_scaled, y_train)\n",
    "\n",
    "# 클래스 비율 확인\n",
    "print(\"After SMOTE:\", dict(zip(*np.unique(y_train_resampled, return_counts=True))))\n",
    "\n",
    "# 모델 학습\n",
    "rf_model_smote = RandomForestClassifier(n_estimators=100, random_state=42, n_jobs=-1)\n",
    "rf_model_smote.fit(X_train_resampled, y_train_resampled)\n",
    "\n",
    "# 예측 및 평가\n",
    "y_pred_smote = rf_model_smote.predict(X_test_scaled)\n",
    "\n",
    "print(\"Classification Report:\")\n",
    "print(classification_report(y_test, y_pred_smote))\n",
    "\n",
    "print(\"Confusion Matrix:\")\n",
    "print(confusion_matrix(y_test, y_pred_smote))"
   ],
   "id": "b5747d0fb1197092",
   "outputs": [
    {
     "ename": "NameError",
     "evalue": "name 'X_train_scaled' is not defined",
     "output_type": "error",
     "traceback": [
      "\u001B[31m---------------------------------------------------------------------------\u001B[39m",
      "\u001B[31mNameError\u001B[39m                                 Traceback (most recent call last)",
      "\u001B[36mCell\u001B[39m\u001B[36m \u001B[39m\u001B[32mIn[37]\u001B[39m\u001B[32m, line 8\u001B[39m\n\u001B[32m      6\u001B[39m \u001B[38;5;66;03m# SMOTE 오버샘플링 적용\u001B[39;00m\n\u001B[32m      7\u001B[39m smote = SMOTE(random_state=\u001B[32m42\u001B[39m)\n\u001B[32m----> \u001B[39m\u001B[32m8\u001B[39m X_train_resampled, y_train_resampled = smote.fit_resample(\u001B[43mX_train_scaled\u001B[49m, y_train)\n\u001B[32m     10\u001B[39m \u001B[38;5;66;03m# 클래스 비율 확인\u001B[39;00m\n\u001B[32m     11\u001B[39m \u001B[38;5;28mprint\u001B[39m(\u001B[33m\"\u001B[39m\u001B[33mAfter SMOTE:\u001B[39m\u001B[33m\"\u001B[39m, \u001B[38;5;28mdict\u001B[39m(\u001B[38;5;28mzip\u001B[39m(*np.unique(y_train_resampled, return_counts=\u001B[38;5;28;01mTrue\u001B[39;00m))))\n",
      "\u001B[31mNameError\u001B[39m: name 'X_train_scaled' is not defined"
     ]
    }
   ],
   "execution_count": 37
  },
  {
   "metadata": {},
   "cell_type": "code",
   "outputs": [],
   "execution_count": null,
   "source": "",
   "id": "e078d44426dc2469"
  }
 ],
 "metadata": {
  "kernelspec": {
   "display_name": "Python 3",
   "language": "python",
   "name": "python3"
  },
  "language_info": {
   "codemirror_mode": {
    "name": "ipython",
    "version": 2
   },
   "file_extension": ".py",
   "mimetype": "text/x-python",
   "name": "python",
   "nbconvert_exporter": "python",
   "pygments_lexer": "ipython2",
   "version": "2.7.6"
  }
 },
 "nbformat": 4,
 "nbformat_minor": 5
}
