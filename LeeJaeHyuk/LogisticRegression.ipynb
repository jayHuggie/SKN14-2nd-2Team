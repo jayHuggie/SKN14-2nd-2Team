{
 "cells": [
  {
   "cell_type": "code",
   "id": "initial_id",
   "metadata": {
    "collapsed": true,
    "ExecuteTime": {
     "end_time": "2025-06-02T09:19:07.809894Z",
     "start_time": "2025-06-02T09:19:07.748692Z"
    }
   },
   "source": [
    "import numpy as np\n",
    "import pandas as pd\n",
    "import matplotlib.pyplot as plt\n",
    "\n",
    "# 시그모이드 정의\n",
    "def sigmoid(z):\n",
    "    return 1 / (1 + np.exp(-z))\n",
    "\n",
    "z = np.arange(-6, 6, 0.1)\n",
    "p = sigmoid(z)\n",
    "\n",
    "(pd.DataFrame({'z': z, 'p': p})\n",
    " .plot(x='z', y='p', legend=False, title='Sigmoid Function'))\n",
    "plt.axvline(0, color='gray', linestyle='--')\n",
    "plt.axhline(0.5, color='gray', linestyle='--')\n",
    "plt.show()"
   ],
   "outputs": [
    {
     "data": {
      "text/plain": [
       "<Figure size 640x480 with 1 Axes>"
      ],
      "image/png": "[encoded data removed]"
     },
     "metadata": {},
     "output_type": "display_data"
    }
   ],
   "execution_count": 1
  },
  {
   "metadata": {},
   "cell_type": "markdown",
   "source": [
    "### 2. 데이터 불러오기 & 기본 전처리\n",
    "*Churn_Modelling.csv\n",
    "- 성별: LabelEncoder(남=0, 여=1)\n",
    "- 지역: 원 - 핫\n",
    "인코딩\n",
    "- 불필요 / 문제\n",
    "컬럼\n",
    "제거\n",
    "후 표준화(StandardScaler)"
   ],
   "id": "e921afcb10ec3055"
  },
  {
   "metadata": {
    "ExecuteTime": {
     "end_time": "2025-06-02T09:19:07.919510Z",
     "start_time": "2025-06-02T09:19:07.813065Z"
    }
   },
   "cell_type": "code",
   "source": [
    "from sklearn.preprocessing import LabelEncoder, StandardScaler\n",
    "from sklearn.model_selection import train_test_split\n",
    "import pandas as pd\n",
    "\n",
    "# 2-1) 데이터 로드\n",
    "data = pd.read_csv('data/Churn_Modelling.csv')\n",
    "\n",
    "# 2-2) 범주형 인코딩\n",
    "le = LabelEncoder()\n",
    "data['Gender'] = le.fit_transform(data['Gender'])      # 남 0, 여 1\n",
    "data = pd.get_dummies(data, columns=['Geography'])     # 지역 원-핫\n",
    "\n",
    "# 2-3) (선택) 로그 변환 예시\n",
    "data['LogAge']     = np.log1p(data['Age'])\n",
    "data['LogBalance'] = np.log1p(data['Balance'])\n",
    "\n",
    "# 2-4) 학습에 쓰지 않을 컬럼 제거\n",
    "drop_cols = ['RowNumber', 'CustomerId', 'Surname',    # 식별자\n",
    "             'LogAge', 'LogBalance',                  # 이번엔 제외\n",
    "             'Exited']                                # 목표값\n",
    "X = data.drop(columns=drop_cols)\n",
    "y = data['Exited']\n",
    "\n",
    "# 2-5) 학습/테스트 분리 (비율 유지)\n",
    "X_train, X_test, y_train, y_test = train_test_split(\n",
    "    X, y, test_size=0.2, random_state=42, stratify=y)\n",
    "\n",
    "# 2-6) 표준화\n",
    "scaler = StandardScaler()\n",
    "X_train = scaler.fit_transform(X_train)\n",
    "X_test  = scaler.transform(X_test)"
   ],
   "id": "ee918f3abfc7be02",
   "outputs": [],
   "execution_count": 2
  },
  {
   "metadata": {},
   "cell_type": "markdown",
   "source": "### 3. 로지스틱 회귀 학습 & 평가",
   "id": "e898ef2ea62bef85"
  },
  {
   "metadata": {
    "ExecuteTime": {
     "end_time": "2025-06-02T09:19:08.031952Z",
     "start_time": "2025-06-02T09:19:07.992688Z"
    }
   },
   "cell_type": "code",
   "source": [
    "from sklearn.linear_model import LogisticRegression\n",
    "from sklearn.metrics import confusion_matrix, classification_report\n",
    "\n",
    "# 3-1) 모델 학습\n",
    "lr_clf = LogisticRegression(max_iter=1000, solver='lbfgs')\n",
    "lr_clf.fit(X_train, y_train)\n",
    "\n",
    "# 3-2) 정확도\n",
    "print(\"테스트 정확도:\", lr_clf.score(X_test, y_test))\n",
    "\n",
    "# 3-3) 혼동 행렬 & 리포트\n",
    "y_pred = lr_clf.predict(X_test)\n",
    "print(\"\\n혼동 행렬\")\n",
    "print(confusion_matrix(y_test, y_pred))\n",
    "\n",
    "print(\"\\n분류 리포트\")\n",
    "print(classification_report(y_test, y_pred, target_names=['유지', '이탈']))"
   ],
   "id": "1773099b72e05ba2",
   "outputs": [
    {
     "name": "stdout",
     "output_type": "stream",
     "text": [
      "테스트 정확도: 0.808\n",
      "\n",
      "혼동 행렬\n",
      "[[1540   53]\n",
      " [ 331   76]]\n",
      "\n",
      "분류 리포트\n",
      "              precision    recall  f1-score   support\n",
      "\n",
      "          유지       0.82      0.97      0.89      1593\n",
      "          이탈       0.59      0.19      0.28       407\n",
      "\n",
      "    accuracy                           0.81      2000\n",
      "   macro avg       0.71      0.58      0.59      2000\n",
      "weighted avg       0.78      0.81      0.77      2000\n",
      "\n"
     ]
    }
   ],
   "execution_count": 3
  },
  {
   "metadata": {},
   "cell_type": "markdown",
   "source": "### 4. 회귀계수(β)와 절편, 결정함수 z, 예측 확률 p",
   "id": "619f8dbf4ddaf48d"
  },
  {
   "metadata": {
    "ExecuteTime": {
     "end_time": "2025-06-02T09:19:08.046149Z",
     "start_time": "2025-06-02T09:19:08.041129Z"
    }
   },
   "cell_type": "code",
   "source": [
    "# 4-1) 특성 이름 확보\n",
    "feature_names = X.columns\n",
    "\n",
    "# 4-2) 회귀계수 테이블\n",
    "coef_df = (pd.Series(lr_clf.coef_[0], index=feature_names)\n",
    "             .sort_values(key=abs, ascending=False)\n",
    "             .to_frame('β'))\n",
    "display(coef_df.head(10))   # 영향력이 큰 상위 10개\n",
    "\n",
    "# 4-3) 테스트 샘플 3개로 z, p 직접 계산\n",
    "sample = X_test[:3]\n",
    "z = lr_clf.decision_function(sample)          # z 값\n",
    "p = sigmoid(z)                                # 양성 확률\n",
    "print(\"\\n결정함수 z:\", z)\n",
    "print(\"양성(이탈) 확률 p:\", p)\n",
    "print(\"음성(유지) 확률 1−p:\", 1 - p)"
   ],
   "id": "6a09bc4f5682aede",
   "outputs": [
    {
     "data": {
      "text/plain": [
       "                          β\n",
       "Age                0.738899\n",
       "IsActiveMember    -0.515396\n",
       "Gender            -0.260854\n",
       "Geography_Germany  0.244096\n",
       "Balance            0.160344\n",
       "Geography_France  -0.130455\n",
       "Geography_Spain   -0.093632\n",
       "CreditScore       -0.085973\n",
       "NumOfProducts     -0.070560\n",
       "EstimatedSalary    0.047749"
      ],
      "text/html": [
       "<div>\n",
       "<style scoped>\n",
       "    .dataframe tbody tr th:only-of-type {\n",
       "        vertical-align: middle;\n",
       "    }\n",
       "\n",
       "    .dataframe tbody tr th {\n",
       "        vertical-align: top;\n",
       "    }\n",
       "\n",
       "    .dataframe thead th {\n",
       "        text-align: right;\n",
       "    }\n",
       "</style>\n",
       "<table border=\"1\" class=\"dataframe\">\n",
       "  <thead>\n",
       "    <tr style=\"text-align: right;\">\n",
       "      <th></th>\n",
       "      <th>β</th>\n",
       "    </tr>\n",
       "  </thead>\n",
       "  <tbody>\n",
       "    <tr>\n",
       "      <th>Age</th>\n",
       "      <td>0.738899</td>\n",
       "    </tr>\n",
       "    <tr>\n",
       "      <th>IsActiveMember</th>\n",
       "      <td>-0.515396</td>\n",
       "    </tr>\n",
       "    <tr>\n",
       "      <th>Gender</th>\n",
       "      <td>-0.260854</td>\n",
       "    </tr>\n",
       "    <tr>\n",
       "      <th>Geography_Germany</th>\n",
       "      <td>0.244096</td>\n",
       "    </tr>\n",
       "    <tr>\n",
       "      <th>Balance</th>\n",
       "      <td>0.160344</td>\n",
       "    </tr>\n",
       "    <tr>\n",
       "      <th>Geography_France</th>\n",
       "      <td>-0.130455</td>\n",
       "    </tr>\n",
       "    <tr>\n",
       "      <th>Geography_Spain</th>\n",
       "      <td>-0.093632</td>\n",
       "    </tr>\n",
       "    <tr>\n",
       "      <th>CreditScore</th>\n",
       "      <td>-0.085973</td>\n",
       "    </tr>\n",
       "    <tr>\n",
       "      <th>NumOfProducts</th>\n",
       "      <td>-0.070560</td>\n",
       "    </tr>\n",
       "    <tr>\n",
       "      <th>EstimatedSalary</th>\n",
       "      <td>0.047749</td>\n",
       "    </tr>\n",
       "  </tbody>\n",
       "</table>\n",
       "</div>"
      ]
     },
     "metadata": {},
     "output_type": "display_data"
    },
    {
     "name": "stdout",
     "output_type": "stream",
     "text": [
      "\n",
      "결정함수 z: [-2.01041525 -0.94710531 -2.06599291]\n",
      "양성(이탈) 확률 p: [0.11811372 0.27946734 0.11244633]\n",
      "음성(유지) 확률 1−p: [0.88188628 0.72053266 0.88755367]\n"
     ]
    }
   ],
   "execution_count": 4
  },
  {
   "metadata": {},
   "cell_type": "markdown",
   "source": [
    "### 5. 모델 해석 간단 메모\n",
    "* **양수 β** : 값이 커질수록 **이탈** 확률 ↑\n",
    "* **음수 β** : 값이 커질수록 **이탈** 확률 ↓"
   ],
   "id": "dbbe530952b02bbd"
  }
 ],
 "metadata": {
  "kernelspec": {
   "display_name": "Python 3",
   "language": "python",
   "name": "python3"
  },
  "language_info": {
   "codemirror_mode": {
    "name": "ipython",
    "version": 2
   },
   "file_extension": ".py",
   "mimetype": "text/x-python",
   "name": "python",
   "nbconvert_exporter": "python",
   "pygments_lexer": "ipython2",
   "version": "2.7.6"
  }
 },
 "nbformat": 4,
 "nbformat_minor": 5
}
